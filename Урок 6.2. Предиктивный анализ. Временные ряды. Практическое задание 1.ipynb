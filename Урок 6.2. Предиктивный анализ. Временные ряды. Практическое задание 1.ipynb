{
  "nbformat": 4,
  "nbformat_minor": 0,
  "metadata": {
    "colab": {
      "provenance": []
    },
    "kernelspec": {
      "name": "python3",
      "display_name": "Python 3"
    },
    "language_info": {
      "name": "python"
    }
  },
  "cells": [
    {
      "cell_type": "code",
      "execution_count": null,
      "metadata": {
        "id": "0v8IJyH_vHmp"
      },
      "outputs": [],
      "source": [
        "import pandas as pd\n",
        "import numpy as np\n",
        "import plotly.express as px\n",
        "from fbprophet import Prophet\n",
        "\n",
        "from statsmodels.tsa.stattools import adfuller\n",
        "from sklearn.metrics import mean_squared_error, r2_score"
      ]
    },
    {
      "cell_type": "code",
      "source": [
        "df = pd.read_csv('Солнечные Энергетические Системы.csv')"
      ],
      "metadata": {
        "id": "CzxGIbcQvL-_"
      },
      "execution_count": null,
      "outputs": []
    },
    {
      "cell_type": "code",
      "source": [
        "fig = px.line(df, x='ds', y='y', title='Продажи на каждый день')\n",
        "fig.show()"
      ],
      "metadata": {
        "id": "xEOOpH73vN-m"
      },
      "execution_count": null,
      "outputs": []
    }
  ]
}