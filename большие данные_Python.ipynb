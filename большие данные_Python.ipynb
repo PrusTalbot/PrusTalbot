{
 "cells": [
  {
   "cell_type": "markdown",
   "id": "d3a879f1",
   "metadata": {},
   "source": [
    "# большие данные"
   ]
  },
  {
   "cell_type": "code",
   "execution_count": 4,
   "id": "cf20f6dc",
   "metadata": {},
   "outputs": [
    {
     "name": "stdout",
     "output_type": "stream",
     "text": [
      "CPU times: total: 0 ns\n",
      "Wall time: 0 ns\n"
     ]
    }
   ],
   "source": [
    "import pandas as pd\n",
    "import seaborn as sns\n",
    "import matplotlib.pyplot as plt\n",
    "import time\n",
    "%time #в начале ячейки писать\n",
    "df_1=pd.read_csv(r'c:\\csv\\Jan_2020.csv')\n",
    "df_2=pd.read_csv(r'c:\\csv\\Feb_2020.csv')\n",
    "df_3=pd.read_csv(r'c:\\csv\\Mar_2020.csv')\n",
    "df_t=pd.concat([df_1,df_2,df_3])               # суммирует датафреймы аналог Union\n",
    "df_t.to_excel('c:\\csv\\First_download.xlsx')    # Выгрузили в EXCEL\n",
    "df_t.to_csv('c:\\csv\\First_download.csv')       # Выгрузили в CSV\n"
   ]
  }
 ],
 "metadata": {
  "kernelspec": {
   "display_name": "Python 3 (ipykernel)",
   "language": "python",
   "name": "python3"
  },
  "language_info": {
   "codemirror_mode": {
    "name": "ipython",
    "version": 3
   },
   "file_extension": ".py",
   "mimetype": "text/x-python",
   "name": "python",
   "nbconvert_exporter": "python",
   "pygments_lexer": "ipython3",
   "version": "3.11.5"
  }
 },
 "nbformat": 4,
 "nbformat_minor": 5
}
