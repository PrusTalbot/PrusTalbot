{
 "cells": [
  {
   "cell_type": "markdown",
   "id": "673bbbea",
   "metadata": {},
   "source": [
    "# API в Python"
   ]
  },
  {
   "cell_type": "code",
   "execution_count": null,
   "id": "7661fb19",
   "metadata": {},
   "outputs": [],
   "source": [
    "import requests          # библиотека для осуествления запросов API\n",
    "url = 'http://api.exchangeratesapi.io/v1/latest?access_key=5b9ff1059d42a7a8d3ee70a46a2b2f89&base=EUR' # запишем наш запрос в строковую переменную\n",
    "resp = requests.get(url) # отправляем запрос на сервис\n",
    "data = resp.json()       # переведем данные ответа сервиса в тип json с помощью функции json()\n",
    "import pandas as pd      # для начала переведем данные из словаря в формат dataframe.\n",
    "df = pd.DataFrame(data)  # предварительно импортируем библиотеку Pandas.\n",
    "                         # СОДЕРЖАНИЕ:\n",
    "# Столбец индекса  — название валюты, для которой мы указываем курс в Евро;\n",
    "# success — системный столбец, который показывает, что данные успешно загружены. Если возникнут какие-либо проблемы, \n",
    "#           то столбец примет значение False;\n",
    "# base — обозначение базового курса валюты;\n",
    "# date — дата, когда были собраны данные;\n",
    "# rates — обменный курс для валюты, указанной в индексе. То есть курс Евро по отношению к валюте из индекса.\n",
    "\n",
    "# Чтобы нам было удобнее работать с данными, превратим индекс в обычный столбец. Для этого используем метод reset_index(), из все той же библиотеки Pandas, \n",
    "# который позволит нам восстановить первичный индекс, представленный последовательностью цифр.\n",
    "df = df.reset_index()                         # вынесем названия валют в отдельный столбец\n",
    "df = df.rename(columns={'index':'currency'})  # Переименуем полученный столбец, передав в метод rename() пару 'index':'currency'\n",
    "\n",
    "# Теперь у нас есть полноценный датафрейм, который мы можем анализировать. Давайте  выведем данные по валютам, которые стоят дороже, чем Евро. \n",
    "display(df.query('rates<1'))                  # выведем валюты, которые стоят дороже, чем Евро\n",
    "display(df.query('rates<1').shape[0])         # выведем количество таких валют\n",
    "\n",
    "#ВОПРОС №1 КАК ОБОЗНАЧАЮТ ВАЛЮТУ АРАБСКИЕ ЭМИРАТЫ  \n",
    "url_1='http://api.exchangeratesapi.io/v1/symbols?access_key=5b9ff1059d42a7a8d3ee70a46a2b2f89'\n",
    "resp_1 = requests.get(url_1)                 # Делаем запрос о значении сокращений валют 'Supported symbols'\n",
    "data_1 = resp_1.json()  \n",
    "df_1 = pd.DataFrame(data_1)\n",
    "df_1 = df_1.reset_index()                    # вынесем названия валют в отдельный столбец\n",
    "df_1 = df_1.rename(columns={'index':'currency'}) \n",
    "\n",
    "#ВОПРОС №2 КУРС ЯПОНСКОЙ ЙЕНЫ 'JPY' на 2018-05-22         \n",
    "url_2='http://api.exchangeratesapi.io/v1/2018-05-22?access_key=5b9ff1059d42a7a8d3ee70a46a2b2f89&base=EUR&symbols=JPY'\n",
    "resp_2 = requests.get(url_2)                 # Делаем запрос о котировках на отпеределенную дату 2018-05-22 И ВАЛЮТУ JPE\n",
    "data_2 = resp_2.json()  \n",
    "df_2 = pd.DataFrame(data_2)\n",
    "df_2 = df_2.reset_index()                    \n",
    "df_2 = df_2.rename(columns={'index':'currency'}) \n",
    "\n",
    "display(df_2) \n",
    "# display(df_1)\n",
    "\n",
    "\n",
    "\n",
    "\n",
    "\n",
    "\n",
    "import matplotlib.pyplot as plt\n",
    "import seaborn as sns\n",
    "import re as re\n",
    "import pandas as pd\n",
    "import math\n",
    "\n",
    "# ВОПРОС №3 ЗАГРУЗИТЬ ДАННЫЕ ПО КУРСУ РУБЛЯ ДОЛЛАРА ЙЕНЫ К ЕВРО ЗА 2023-09-01\n",
    "# ПОСТРОЙТЕ СТОЛБЧАТУЮ ДИАГРАММУ. КАККОЙ СТОЛБЕЦ БУДЕТ ИМЕТЬ МАХ ВЕЛИЧИНУ\n",
    "url_1='http://api.exchangeratesapi.io/v1/2023-09-01?access_key=5b9ff1059d42a7a8d3ee70a46a2b2f89&base=EUR&symbols=RUB,USD,JPY'\n",
    "resp_1 = requests.get(url_1)                 # Делаем запрос о значении сокращений валют 'Supported symbols'\n",
    "data_1 = resp_1.json()  \n",
    "df_1 = pd.DataFrame(data_1)\n",
    "df_1 = df_1.reset_index()                    # вынесем названия валют в отдельный столбец\n",
    "df_1 = df_1.rename(columns={'index':'currency'}) \n",
    "display(df_1) \n",
    "sns.barplot(data=df_1, x='currency',y='rates')"
   ]
  }
 ],
 "metadata": {
  "kernelspec": {
   "display_name": "Python 3 (ipykernel)",
   "language": "python",
   "name": "python3"
  },
  "language_info": {
   "codemirror_mode": {
    "name": "ipython",
    "version": 3
   },
   "file_extension": ".py",
   "mimetype": "text/x-python",
   "name": "python",
   "nbconvert_exporter": "python",
   "pygments_lexer": "ipython3",
   "version": "3.11.5"
  }
 },
 "nbformat": 4,
 "nbformat_minor": 5
}
