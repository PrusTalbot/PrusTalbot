{
  "cells": [
    {
      "cell_type": "markdown",
      "metadata": {
        "id": "view-in-github",
        "colab_type": "text"
      },
      "source": [
        "<a href=\"https://colab.research.google.com/github/PrusTalbot/PrusTalbot/blob/main/%D0%9F%D1%80%D0%B5%D0%BE%D0%B1%D1%80%D0%B0%D0%B7%D0%BE%D0%B2%D0%B0%D0%BD%D0%B8%D0%B5%20%D0%B4%D0%B0%D0%BD%D0%BD%D1%8B%D1%85%20(%D0%9E%D0%A2%D0%92%D0%95%D0%A2%D0%AB).ipynb\" target=\"_parent\"><img src=\"https://colab.research.google.com/assets/colab-badge.svg\" alt=\"Open In Colab\"/></a>"
      ]
    },
    {
      "cell_type": "markdown",
      "source": [
        "**ПРЕОБРАЗОВАНИЕ ДАННЫХ**"
      ],
      "metadata": {
        "id": "S5PUv3-BJNYw"
      }
    },
    {
      "cell_type": "code",
      "source": [
        "import pandas as pd\n",
        "import numpy as np\n",
        "import seaborn as sns\n",
        "import io\n",
        "from google.colab import files\n",
        "uploaded=files.upload()"
      ],
      "metadata": {
        "id": "tQhn_xBzJJ9n",
        "outputId": "9cc1f038-c379-4b47-ee12-119b5e2436b5",
        "colab": {
          "base_uri": "https://localhost:8080/",
          "height": 73
        }
      },
      "execution_count": 9,
      "outputs": [
        {
          "output_type": "display_data",
          "data": {
            "text/plain": [
              "<IPython.core.display.HTML object>"
            ],
            "text/html": [
              "\n",
              "     <input type=\"file\" id=\"files-900132f2-130f-4a9b-9183-0c18f0d33238\" name=\"files[]\" multiple disabled\n",
              "        style=\"border:none\" />\n",
              "     <output id=\"result-900132f2-130f-4a9b-9183-0c18f0d33238\">\n",
              "      Upload widget is only available when the cell has been executed in the\n",
              "      current browser session. Please rerun this cell to enable.\n",
              "      </output>\n",
              "      <script>// Copyright 2017 Google LLC\n",
              "//\n",
              "// Licensed under the Apache License, Version 2.0 (the \"License\");\n",
              "// you may not use this file except in compliance with the License.\n",
              "// You may obtain a copy of the License at\n",
              "//\n",
              "//      http://www.apache.org/licenses/LICENSE-2.0\n",
              "//\n",
              "// Unless required by applicable law or agreed to in writing, software\n",
              "// distributed under the License is distributed on an \"AS IS\" BASIS,\n",
              "// WITHOUT WARRANTIES OR CONDITIONS OF ANY KIND, either express or implied.\n",
              "// See the License for the specific language governing permissions and\n",
              "// limitations under the License.\n",
              "\n",
              "/**\n",
              " * @fileoverview Helpers for google.colab Python module.\n",
              " */\n",
              "(function(scope) {\n",
              "function span(text, styleAttributes = {}) {\n",
              "  const element = document.createElement('span');\n",
              "  element.textContent = text;\n",
              "  for (const key of Object.keys(styleAttributes)) {\n",
              "    element.style[key] = styleAttributes[key];\n",
              "  }\n",
              "  return element;\n",
              "}\n",
              "\n",
              "// Max number of bytes which will be uploaded at a time.\n",
              "const MAX_PAYLOAD_SIZE = 100 * 1024;\n",
              "\n",
              "function _uploadFiles(inputId, outputId) {\n",
              "  const steps = uploadFilesStep(inputId, outputId);\n",
              "  const outputElement = document.getElementById(outputId);\n",
              "  // Cache steps on the outputElement to make it available for the next call\n",
              "  // to uploadFilesContinue from Python.\n",
              "  outputElement.steps = steps;\n",
              "\n",
              "  return _uploadFilesContinue(outputId);\n",
              "}\n",
              "\n",
              "// This is roughly an async generator (not supported in the browser yet),\n",
              "// where there are multiple asynchronous steps and the Python side is going\n",
              "// to poll for completion of each step.\n",
              "// This uses a Promise to block the python side on completion of each step,\n",
              "// then passes the result of the previous step as the input to the next step.\n",
              "function _uploadFilesContinue(outputId) {\n",
              "  const outputElement = document.getElementById(outputId);\n",
              "  const steps = outputElement.steps;\n",
              "\n",
              "  const next = steps.next(outputElement.lastPromiseValue);\n",
              "  return Promise.resolve(next.value.promise).then((value) => {\n",
              "    // Cache the last promise value to make it available to the next\n",
              "    // step of the generator.\n",
              "    outputElement.lastPromiseValue = value;\n",
              "    return next.value.response;\n",
              "  });\n",
              "}\n",
              "\n",
              "/**\n",
              " * Generator function which is called between each async step of the upload\n",
              " * process.\n",
              " * @param {string} inputId Element ID of the input file picker element.\n",
              " * @param {string} outputId Element ID of the output display.\n",
              " * @return {!Iterable<!Object>} Iterable of next steps.\n",
              " */\n",
              "function* uploadFilesStep(inputId, outputId) {\n",
              "  const inputElement = document.getElementById(inputId);\n",
              "  inputElement.disabled = false;\n",
              "\n",
              "  const outputElement = document.getElementById(outputId);\n",
              "  outputElement.innerHTML = '';\n",
              "\n",
              "  const pickedPromise = new Promise((resolve) => {\n",
              "    inputElement.addEventListener('change', (e) => {\n",
              "      resolve(e.target.files);\n",
              "    });\n",
              "  });\n",
              "\n",
              "  const cancel = document.createElement('button');\n",
              "  inputElement.parentElement.appendChild(cancel);\n",
              "  cancel.textContent = 'Cancel upload';\n",
              "  const cancelPromise = new Promise((resolve) => {\n",
              "    cancel.onclick = () => {\n",
              "      resolve(null);\n",
              "    };\n",
              "  });\n",
              "\n",
              "  // Wait for the user to pick the files.\n",
              "  const files = yield {\n",
              "    promise: Promise.race([pickedPromise, cancelPromise]),\n",
              "    response: {\n",
              "      action: 'starting',\n",
              "    }\n",
              "  };\n",
              "\n",
              "  cancel.remove();\n",
              "\n",
              "  // Disable the input element since further picks are not allowed.\n",
              "  inputElement.disabled = true;\n",
              "\n",
              "  if (!files) {\n",
              "    return {\n",
              "      response: {\n",
              "        action: 'complete',\n",
              "      }\n",
              "    };\n",
              "  }\n",
              "\n",
              "  for (const file of files) {\n",
              "    const li = document.createElement('li');\n",
              "    li.append(span(file.name, {fontWeight: 'bold'}));\n",
              "    li.append(span(\n",
              "        `(${file.type || 'n/a'}) - ${file.size} bytes, ` +\n",
              "        `last modified: ${\n",
              "            file.lastModifiedDate ? file.lastModifiedDate.toLocaleDateString() :\n",
              "                                    'n/a'} - `));\n",
              "    const percent = span('0% done');\n",
              "    li.appendChild(percent);\n",
              "\n",
              "    outputElement.appendChild(li);\n",
              "\n",
              "    const fileDataPromise = new Promise((resolve) => {\n",
              "      const reader = new FileReader();\n",
              "      reader.onload = (e) => {\n",
              "        resolve(e.target.result);\n",
              "      };\n",
              "      reader.readAsArrayBuffer(file);\n",
              "    });\n",
              "    // Wait for the data to be ready.\n",
              "    let fileData = yield {\n",
              "      promise: fileDataPromise,\n",
              "      response: {\n",
              "        action: 'continue',\n",
              "      }\n",
              "    };\n",
              "\n",
              "    // Use a chunked sending to avoid message size limits. See b/62115660.\n",
              "    let position = 0;\n",
              "    do {\n",
              "      const length = Math.min(fileData.byteLength - position, MAX_PAYLOAD_SIZE);\n",
              "      const chunk = new Uint8Array(fileData, position, length);\n",
              "      position += length;\n",
              "\n",
              "      const base64 = btoa(String.fromCharCode.apply(null, chunk));\n",
              "      yield {\n",
              "        response: {\n",
              "          action: 'append',\n",
              "          file: file.name,\n",
              "          data: base64,\n",
              "        },\n",
              "      };\n",
              "\n",
              "      let percentDone = fileData.byteLength === 0 ?\n",
              "          100 :\n",
              "          Math.round((position / fileData.byteLength) * 100);\n",
              "      percent.textContent = `${percentDone}% done`;\n",
              "\n",
              "    } while (position < fileData.byteLength);\n",
              "  }\n",
              "\n",
              "  // All done.\n",
              "  yield {\n",
              "    response: {\n",
              "      action: 'complete',\n",
              "    }\n",
              "  };\n",
              "}\n",
              "\n",
              "scope.google = scope.google || {};\n",
              "scope.google.colab = scope.google.colab || {};\n",
              "scope.google.colab._files = {\n",
              "  _uploadFiles,\n",
              "  _uploadFilesContinue,\n",
              "};\n",
              "})(self);\n",
              "</script> "
            ]
          },
          "metadata": {}
        },
        {
          "output_type": "stream",
          "name": "stdout",
          "text": [
            "Saving Lesson_1_2_loans.csv to Lesson_1_2_loans.csv\n"
          ]
        }
      ]
    },
    {
      "cell_type": "code",
      "source": [
        "df=pd.read_csv(io.BytesIO(uploaded['Lesson_1_2_loans.csv']))\n"
      ],
      "metadata": {
        "id": "fkIsFUyMLWAl"
      },
      "execution_count": 10,
      "outputs": []
    },
    {
      "cell_type": "code",
      "source": [
        "df.corr()"
      ],
      "metadata": {
        "id": "shK8CiD5kAJJ",
        "outputId": "dad344a6-15e0-4633-e0aa-b1b984c74f01",
        "colab": {
          "base_uri": "https://localhost:8080/",
          "height": 324
        }
      },
      "execution_count": 11,
      "outputs": [
        {
          "output_type": "stream",
          "name": "stderr",
          "text": [
            "<ipython-input-11-2f6f6606aa2c>:1: FutureWarning: The default value of numeric_only in DataFrame.corr is deprecated. In a future version, it will default to False. Select only valid columns or specify the value of numeric_only to silence this warning.\n",
            "  df.corr()\n"
          ]
        },
        {
          "output_type": "execute_result",
          "data": {
            "text/plain": [
              "                         Id    Income       Age  Experience  CURRENT_JOB_YRS  \\\n",
              "Id                 1.000000 -0.001324 -0.001816   -0.005810        -0.003250   \n",
              "Income            -0.001324  1.000000 -0.000652    0.006422         0.007045   \n",
              "Age               -0.001816 -0.000652  1.000000   -0.001118         0.002154   \n",
              "Experience        -0.005810  0.006422 -0.001118    1.000000         0.646098   \n",
              "CURRENT_JOB_YRS   -0.003250  0.007045  0.002154    0.646098         1.000000   \n",
              "CURRENT_HOUSE_YRS  0.001972 -0.002397 -0.020134    0.019309         0.005372   \n",
              "Risk_Flag          0.032153 -0.003091 -0.021809   -0.034523        -0.016942   \n",
              "\n",
              "                   CURRENT_HOUSE_YRS  Risk_Flag  \n",
              "Id                          0.001972   0.032153  \n",
              "Income                     -0.002397  -0.003091  \n",
              "Age                        -0.020134  -0.021809  \n",
              "Experience                  0.019309  -0.034523  \n",
              "CURRENT_JOB_YRS             0.005372  -0.016942  \n",
              "CURRENT_HOUSE_YRS           1.000000  -0.004375  \n",
              "Risk_Flag                  -0.004375   1.000000  "
            ],
            "text/html": [
              "\n",
              "  <div id=\"df-afbb1a8d-f73f-4b88-b58c-49d2840832ae\" class=\"colab-df-container\">\n",
              "    <div>\n",
              "<style scoped>\n",
              "    .dataframe tbody tr th:only-of-type {\n",
              "        vertical-align: middle;\n",
              "    }\n",
              "\n",
              "    .dataframe tbody tr th {\n",
              "        vertical-align: top;\n",
              "    }\n",
              "\n",
              "    .dataframe thead th {\n",
              "        text-align: right;\n",
              "    }\n",
              "</style>\n",
              "<table border=\"1\" class=\"dataframe\">\n",
              "  <thead>\n",
              "    <tr style=\"text-align: right;\">\n",
              "      <th></th>\n",
              "      <th>Id</th>\n",
              "      <th>Income</th>\n",
              "      <th>Age</th>\n",
              "      <th>Experience</th>\n",
              "      <th>CURRENT_JOB_YRS</th>\n",
              "      <th>CURRENT_HOUSE_YRS</th>\n",
              "      <th>Risk_Flag</th>\n",
              "    </tr>\n",
              "  </thead>\n",
              "  <tbody>\n",
              "    <tr>\n",
              "      <th>Id</th>\n",
              "      <td>1.000000</td>\n",
              "      <td>-0.001324</td>\n",
              "      <td>-0.001816</td>\n",
              "      <td>-0.005810</td>\n",
              "      <td>-0.003250</td>\n",
              "      <td>0.001972</td>\n",
              "      <td>0.032153</td>\n",
              "    </tr>\n",
              "    <tr>\n",
              "      <th>Income</th>\n",
              "      <td>-0.001324</td>\n",
              "      <td>1.000000</td>\n",
              "      <td>-0.000652</td>\n",
              "      <td>0.006422</td>\n",
              "      <td>0.007045</td>\n",
              "      <td>-0.002397</td>\n",
              "      <td>-0.003091</td>\n",
              "    </tr>\n",
              "    <tr>\n",
              "      <th>Age</th>\n",
              "      <td>-0.001816</td>\n",
              "      <td>-0.000652</td>\n",
              "      <td>1.000000</td>\n",
              "      <td>-0.001118</td>\n",
              "      <td>0.002154</td>\n",
              "      <td>-0.020134</td>\n",
              "      <td>-0.021809</td>\n",
              "    </tr>\n",
              "    <tr>\n",
              "      <th>Experience</th>\n",
              "      <td>-0.005810</td>\n",
              "      <td>0.006422</td>\n",
              "      <td>-0.001118</td>\n",
              "      <td>1.000000</td>\n",
              "      <td>0.646098</td>\n",
              "      <td>0.019309</td>\n",
              "      <td>-0.034523</td>\n",
              "    </tr>\n",
              "    <tr>\n",
              "      <th>CURRENT_JOB_YRS</th>\n",
              "      <td>-0.003250</td>\n",
              "      <td>0.007045</td>\n",
              "      <td>0.002154</td>\n",
              "      <td>0.646098</td>\n",
              "      <td>1.000000</td>\n",
              "      <td>0.005372</td>\n",
              "      <td>-0.016942</td>\n",
              "    </tr>\n",
              "    <tr>\n",
              "      <th>CURRENT_HOUSE_YRS</th>\n",
              "      <td>0.001972</td>\n",
              "      <td>-0.002397</td>\n",
              "      <td>-0.020134</td>\n",
              "      <td>0.019309</td>\n",
              "      <td>0.005372</td>\n",
              "      <td>1.000000</td>\n",
              "      <td>-0.004375</td>\n",
              "    </tr>\n",
              "    <tr>\n",
              "      <th>Risk_Flag</th>\n",
              "      <td>0.032153</td>\n",
              "      <td>-0.003091</td>\n",
              "      <td>-0.021809</td>\n",
              "      <td>-0.034523</td>\n",
              "      <td>-0.016942</td>\n",
              "      <td>-0.004375</td>\n",
              "      <td>1.000000</td>\n",
              "    </tr>\n",
              "  </tbody>\n",
              "</table>\n",
              "</div>\n",
              "    <div class=\"colab-df-buttons\">\n",
              "\n",
              "  <div class=\"colab-df-container\">\n",
              "    <button class=\"colab-df-convert\" onclick=\"convertToInteractive('df-afbb1a8d-f73f-4b88-b58c-49d2840832ae')\"\n",
              "            title=\"Convert this dataframe to an interactive table.\"\n",
              "            style=\"display:none;\">\n",
              "\n",
              "  <svg xmlns=\"http://www.w3.org/2000/svg\" height=\"24px\" viewBox=\"0 -960 960 960\">\n",
              "    <path d=\"M120-120v-720h720v720H120Zm60-500h600v-160H180v160Zm220 220h160v-160H400v160Zm0 220h160v-160H400v160ZM180-400h160v-160H180v160Zm440 0h160v-160H620v160ZM180-180h160v-160H180v160Zm440 0h160v-160H620v160Z\"/>\n",
              "  </svg>\n",
              "    </button>\n",
              "\n",
              "  <style>\n",
              "    .colab-df-container {\n",
              "      display:flex;\n",
              "      gap: 12px;\n",
              "    }\n",
              "\n",
              "    .colab-df-convert {\n",
              "      background-color: #E8F0FE;\n",
              "      border: none;\n",
              "      border-radius: 50%;\n",
              "      cursor: pointer;\n",
              "      display: none;\n",
              "      fill: #1967D2;\n",
              "      height: 32px;\n",
              "      padding: 0 0 0 0;\n",
              "      width: 32px;\n",
              "    }\n",
              "\n",
              "    .colab-df-convert:hover {\n",
              "      background-color: #E2EBFA;\n",
              "      box-shadow: 0px 1px 2px rgba(60, 64, 67, 0.3), 0px 1px 3px 1px rgba(60, 64, 67, 0.15);\n",
              "      fill: #174EA6;\n",
              "    }\n",
              "\n",
              "    .colab-df-buttons div {\n",
              "      margin-bottom: 4px;\n",
              "    }\n",
              "\n",
              "    [theme=dark] .colab-df-convert {\n",
              "      background-color: #3B4455;\n",
              "      fill: #D2E3FC;\n",
              "    }\n",
              "\n",
              "    [theme=dark] .colab-df-convert:hover {\n",
              "      background-color: #434B5C;\n",
              "      box-shadow: 0px 1px 3px 1px rgba(0, 0, 0, 0.15);\n",
              "      filter: drop-shadow(0px 1px 2px rgba(0, 0, 0, 0.3));\n",
              "      fill: #FFFFFF;\n",
              "    }\n",
              "  </style>\n",
              "\n",
              "    <script>\n",
              "      const buttonEl =\n",
              "        document.querySelector('#df-afbb1a8d-f73f-4b88-b58c-49d2840832ae button.colab-df-convert');\n",
              "      buttonEl.style.display =\n",
              "        google.colab.kernel.accessAllowed ? 'block' : 'none';\n",
              "\n",
              "      async function convertToInteractive(key) {\n",
              "        const element = document.querySelector('#df-afbb1a8d-f73f-4b88-b58c-49d2840832ae');\n",
              "        const dataTable =\n",
              "          await google.colab.kernel.invokeFunction('convertToInteractive',\n",
              "                                                    [key], {});\n",
              "        if (!dataTable) return;\n",
              "\n",
              "        const docLinkHtml = 'Like what you see? Visit the ' +\n",
              "          '<a target=\"_blank\" href=https://colab.research.google.com/notebooks/data_table.ipynb>data table notebook</a>'\n",
              "          + ' to learn more about interactive tables.';\n",
              "        element.innerHTML = '';\n",
              "        dataTable['output_type'] = 'display_data';\n",
              "        await google.colab.output.renderOutput(dataTable, element);\n",
              "        const docLink = document.createElement('div');\n",
              "        docLink.innerHTML = docLinkHtml;\n",
              "        element.appendChild(docLink);\n",
              "      }\n",
              "    </script>\n",
              "  </div>\n",
              "\n",
              "\n",
              "<div id=\"df-1abed3b1-adb1-44b5-b1d6-2467b57dd8b0\">\n",
              "  <button class=\"colab-df-quickchart\" onclick=\"quickchart('df-1abed3b1-adb1-44b5-b1d6-2467b57dd8b0')\"\n",
              "            title=\"Suggest charts.\"\n",
              "            style=\"display:none;\">\n",
              "\n",
              "<svg xmlns=\"http://www.w3.org/2000/svg\" height=\"24px\"viewBox=\"0 0 24 24\"\n",
              "     width=\"24px\">\n",
              "    <g>\n",
              "        <path d=\"M19 3H5c-1.1 0-2 .9-2 2v14c0 1.1.9 2 2 2h14c1.1 0 2-.9 2-2V5c0-1.1-.9-2-2-2zM9 17H7v-7h2v7zm4 0h-2V7h2v10zm4 0h-2v-4h2v4z\"/>\n",
              "    </g>\n",
              "</svg>\n",
              "  </button>\n",
              "\n",
              "<style>\n",
              "  .colab-df-quickchart {\n",
              "      --bg-color: #E8F0FE;\n",
              "      --fill-color: #1967D2;\n",
              "      --hover-bg-color: #E2EBFA;\n",
              "      --hover-fill-color: #174EA6;\n",
              "      --disabled-fill-color: #AAA;\n",
              "      --disabled-bg-color: #DDD;\n",
              "  }\n",
              "\n",
              "  [theme=dark] .colab-df-quickchart {\n",
              "      --bg-color: #3B4455;\n",
              "      --fill-color: #D2E3FC;\n",
              "      --hover-bg-color: #434B5C;\n",
              "      --hover-fill-color: #FFFFFF;\n",
              "      --disabled-bg-color: #3B4455;\n",
              "      --disabled-fill-color: #666;\n",
              "  }\n",
              "\n",
              "  .colab-df-quickchart {\n",
              "    background-color: var(--bg-color);\n",
              "    border: none;\n",
              "    border-radius: 50%;\n",
              "    cursor: pointer;\n",
              "    display: none;\n",
              "    fill: var(--fill-color);\n",
              "    height: 32px;\n",
              "    padding: 0;\n",
              "    width: 32px;\n",
              "  }\n",
              "\n",
              "  .colab-df-quickchart:hover {\n",
              "    background-color: var(--hover-bg-color);\n",
              "    box-shadow: 0 1px 2px rgba(60, 64, 67, 0.3), 0 1px 3px 1px rgba(60, 64, 67, 0.15);\n",
              "    fill: var(--button-hover-fill-color);\n",
              "  }\n",
              "\n",
              "  .colab-df-quickchart-complete:disabled,\n",
              "  .colab-df-quickchart-complete:disabled:hover {\n",
              "    background-color: var(--disabled-bg-color);\n",
              "    fill: var(--disabled-fill-color);\n",
              "    box-shadow: none;\n",
              "  }\n",
              "\n",
              "  .colab-df-spinner {\n",
              "    border: 2px solid var(--fill-color);\n",
              "    border-color: transparent;\n",
              "    border-bottom-color: var(--fill-color);\n",
              "    animation:\n",
              "      spin 1s steps(1) infinite;\n",
              "  }\n",
              "\n",
              "  @keyframes spin {\n",
              "    0% {\n",
              "      border-color: transparent;\n",
              "      border-bottom-color: var(--fill-color);\n",
              "      border-left-color: var(--fill-color);\n",
              "    }\n",
              "    20% {\n",
              "      border-color: transparent;\n",
              "      border-left-color: var(--fill-color);\n",
              "      border-top-color: var(--fill-color);\n",
              "    }\n",
              "    30% {\n",
              "      border-color: transparent;\n",
              "      border-left-color: var(--fill-color);\n",
              "      border-top-color: var(--fill-color);\n",
              "      border-right-color: var(--fill-color);\n",
              "    }\n",
              "    40% {\n",
              "      border-color: transparent;\n",
              "      border-right-color: var(--fill-color);\n",
              "      border-top-color: var(--fill-color);\n",
              "    }\n",
              "    60% {\n",
              "      border-color: transparent;\n",
              "      border-right-color: var(--fill-color);\n",
              "    }\n",
              "    80% {\n",
              "      border-color: transparent;\n",
              "      border-right-color: var(--fill-color);\n",
              "      border-bottom-color: var(--fill-color);\n",
              "    }\n",
              "    90% {\n",
              "      border-color: transparent;\n",
              "      border-bottom-color: var(--fill-color);\n",
              "    }\n",
              "  }\n",
              "</style>\n",
              "\n",
              "  <script>\n",
              "    async function quickchart(key) {\n",
              "      const quickchartButtonEl =\n",
              "        document.querySelector('#' + key + ' button');\n",
              "      quickchartButtonEl.disabled = true;  // To prevent multiple clicks.\n",
              "      quickchartButtonEl.classList.add('colab-df-spinner');\n",
              "      try {\n",
              "        const charts = await google.colab.kernel.invokeFunction(\n",
              "            'suggestCharts', [key], {});\n",
              "      } catch (error) {\n",
              "        console.error('Error during call to suggestCharts:', error);\n",
              "      }\n",
              "      quickchartButtonEl.classList.remove('colab-df-spinner');\n",
              "      quickchartButtonEl.classList.add('colab-df-quickchart-complete');\n",
              "    }\n",
              "    (() => {\n",
              "      let quickchartButtonEl =\n",
              "        document.querySelector('#df-1abed3b1-adb1-44b5-b1d6-2467b57dd8b0 button');\n",
              "      quickchartButtonEl.style.display =\n",
              "        google.colab.kernel.accessAllowed ? 'block' : 'none';\n",
              "    })();\n",
              "  </script>\n",
              "</div>\n",
              "    </div>\n",
              "  </div>\n"
            ]
          },
          "metadata": {},
          "execution_count": 11
        }
      ]
    },
    {
      "cell_type": "markdown",
      "source": [
        "**МАКСИМАЛЬНОЕ ЗНАЧЕНИЕ В Income**"
      ],
      "metadata": {
        "id": "K1mKaKloFDfr"
      }
    },
    {
      "cell_type": "code",
      "source": [
        "print(df['Income'].max())\n",
        "log_income=[]\n",
        "log_income=df.Income.apply(np.log) # ПРОЛОГАРИФМИРОВАЛИ СТОЛБЕЦ Income И ЗАПИСАЛИ В log_income\n",
        "print(round(log_income.max(),0))   # ВЫВЕЛИ МАКСИМАЛЬНОЕ ЗНАЧЕНИЕ log_income"
      ],
      "metadata": {
        "id": "U5sdKbWCFDC3",
        "outputId": "d1bc3484-8cb7-4857-c8f6-a8991192199e",
        "colab": {
          "base_uri": "https://localhost:8080/"
        }
      },
      "execution_count": 47,
      "outputs": [
        {
          "output_type": "stream",
          "name": "stdout",
          "text": [
            "9999938\n",
            "16.0\n"
          ]
        }
      ]
    },
    {
      "cell_type": "markdown",
      "source": [
        "**НАИБОЛЬШЕЕ ЗНАЧЕНИЕ (НЕ ПУСТАТЬ С САМЫМ СИЛЬНЫМ) КОРЕЛЛЯЦИИ**\n",
        "**0,1 БОЛЬШЕ -0,7 НО -0,7 СИЛЬНЕЕ ЧЕМ 0,1**"
      ],
      "metadata": {
        "id": "ea5RrHLV1TLM"
      }
    },
    {
      "cell_type": "code",
      "source": [
        "corr_=df.corr()\n",
        "corr_flag=corr_['Risk_Flag'].drop(['Id','Risk_Flag'])\n",
        "display(corr_flag)\n",
        "print('MAX=', corr_flag.max())"
      ],
      "metadata": {
        "id": "O2O0Mmnypxt9",
        "outputId": "75db5380-b57f-4060-a4dc-467c6c497739",
        "colab": {
          "base_uri": "https://localhost:8080/",
          "height": 193
        }
      },
      "execution_count": 36,
      "outputs": [
        {
          "output_type": "stream",
          "name": "stderr",
          "text": [
            "<ipython-input-36-0d3960980381>:1: FutureWarning: The default value of numeric_only in DataFrame.corr is deprecated. In a future version, it will default to False. Select only valid columns or specify the value of numeric_only to silence this warning.\n",
            "  corr_=df.corr()\n"
          ]
        },
        {
          "output_type": "display_data",
          "data": {
            "text/plain": [
              "Income              -0.003091\n",
              "Age                 -0.021809\n",
              "Experience          -0.034523\n",
              "CURRENT_JOB_YRS     -0.016942\n",
              "CURRENT_HOUSE_YRS   -0.004375\n",
              "Name: Risk_Flag, dtype: float64"
            ]
          },
          "metadata": {}
        },
        {
          "output_type": "stream",
          "name": "stdout",
          "text": [
            "MAX= -0.003091168122271433\n"
          ]
        }
      ]
    },
    {
      "cell_type": "markdown",
      "source": [
        "**САМАЯ СИЛЬНАЯ КОРЕЛЛЯЦИЯ**"
      ],
      "metadata": {
        "id": "tulh8c0310RZ"
      }
    },
    {
      "cell_type": "code",
      "source": [
        "corr_exp=corr_['Experience'].drop(['Experience'])\n",
        "display(corr_exp)\n",
        "print('max=', round(abs(corr_exp).max(),4))"
      ],
      "metadata": {
        "id": "1FLj2Em9vGrJ",
        "outputId": "998ddd6a-eb9f-4190-c8bf-5039e6527406",
        "colab": {
          "base_uri": "https://localhost:8080/",
          "height": 156
        }
      },
      "execution_count": 43,
      "outputs": [
        {
          "output_type": "display_data",
          "data": {
            "text/plain": [
              "Id                  -0.005810\n",
              "Income               0.006422\n",
              "Age                 -0.001118\n",
              "CURRENT_JOB_YRS      0.646098\n",
              "CURRENT_HOUSE_YRS    0.019309\n",
              "Risk_Flag           -0.034523\n",
              "Name: Experience, dtype: float64"
            ]
          },
          "metadata": {}
        },
        {
          "output_type": "stream",
          "name": "stdout",
          "text": [
            "max= 0.6461\n"
          ]
        }
      ]
    },
    {
      "cell_type": "markdown",
      "source": [
        "**ПЕРЕВЕСТИ ЗНАЧЕНИЯ ОДИНОК =1, ЕСТЬ МАШИНА =1**\n",
        "\n",
        "СКОЛЬКО ЧЕЛОВЕК БЫЛИ ЖЕНАТЫ И ИМЕЛИ МАШИНУ?"
      ],
      "metadata": {
        "id": "iD1HnkyyHLOx"
      }
    },
    {
      "cell_type": "code",
      "source": [
        "married_to_replace={'single':1, 'married':0}    # СОЗДАЕМ УСЛОВИЕ ДЛЯ ЗАМЕНЫ В СТОЛБЦЕ Married/Single\n",
        "car_to_replace={'yes':1, 'no':0}                # СОЗДАЕМ УСЛОВИЕ ДЛЯ ЗАМЕНЫ В СТОЛБЦЕ Car_Ownership\n",
        "df['married_to']=df['Married/Single'].replace(married_to_replace)      # САМА ЗАМЕНА\n",
        "df['car_to']=df['Car_Ownership'].replace(car_to_replace)\n"
      ],
      "metadata": {
        "id": "niXyKze7H6NI"
      },
      "execution_count": 50,
      "outputs": []
    },
    {
      "cell_type": "code",
      "source": [
        "filtered_df=df.query('married_to == 1 and car_to == 1')  # СКОЛЬКО ХОЛОСТЫХ С МАШИНОЙ (КОЛ-ВО СТРОК)\n",
        "filtered_df.shape"
      ],
      "metadata": {
        "id": "AI-tzrG5JUnZ",
        "outputId": "07eca1ac-0e09-495a-8ae3-ceba017580f0",
        "colab": {
          "base_uri": "https://localhost:8080/"
        }
      },
      "execution_count": 58,
      "outputs": [
        {
          "output_type": "execute_result",
          "data": {
            "text/plain": [
              "(68283, 15)"
            ]
          },
          "metadata": {},
          "execution_count": 58
        }
      ]
    },
    {
      "cell_type": "code",
      "source": [
        "filtered_df_credit=filtered_df.query('Risk_Flag == 1')   # СКОЛЬКО ХОЛОСТЫХ С МАШИНОЙ (КОЛ-ВО СТРОК) ПОЛУЧИЛИ КРЕДИТ\n",
        "filtered_df_credit.shape"
      ],
      "metadata": {
        "id": "MDyL9ftOKpFr",
        "outputId": "250b4171-f141-4f5a-849f-f54f4bfcad3a",
        "colab": {
          "base_uri": "https://localhost:8080/"
        }
      },
      "execution_count": 57,
      "outputs": [
        {
          "output_type": "execute_result",
          "data": {
            "text/plain": [
              "(7747, 15)"
            ]
          },
          "metadata": {},
          "execution_count": 57
        }
      ]
    }
  ],
  "metadata": {
    "colab": {
      "name": "Добро пожаловать в Colaboratory!",
      "toc_visible": true,
      "provenance": [],
      "include_colab_link": true
    },
    "kernelspec": {
      "display_name": "Python 3",
      "name": "python3"
    }
  },
  "nbformat": 4,
  "nbformat_minor": 0
}