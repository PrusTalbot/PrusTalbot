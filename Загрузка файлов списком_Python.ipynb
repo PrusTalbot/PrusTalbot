{
 "cells": [
  {
   "cell_type": "markdown",
   "id": "ec646114",
   "metadata": {},
   "source": [
    "# Загрузка файлов списком из одной папки"
   ]
  },
  {
   "cell_type": "code",
   "execution_count": null,
   "id": "35c2af14",
   "metadata": {},
   "outputs": [],
   "source": [
    "import os\n",
    "print(os.getcwd())          # вернет текущую директорию, где лежит НОУТБУК (откуда загружает файлы)\n",
    "print(os.listdir())         # возвращает все элементы (файлы) в папке Юпитера\n",
    "os.chdir(r'c:/csv/receipts/')        # меняем рабочу папку для загрузки\n",
    " \n",
    "                                    #ЗАГРУЗКА ВСЕХ ФАЙЛОВ ИЗ ПАПКИ\n",
    "directory=os.listdir()      # Список файлов записываем в переменную directory          \n",
    "\n",
    "df_total=[]\n",
    "print(directory)\n",
    "for i in range(len(directory)):\n",
    "    print(directory[i])\n",
    "    df_sample=pd.read_csv(directory[i])        # Добавили перебором имя файла в переменную df_sample\n",
    "    df_total.append(df_sample)                 # df_sample занесли в список df_total\n",
    "    \n",
    "df=pd.concat(df_total)      # суммирует датафреймы аналог Union\n",
    "\n",
    "\n",
    "\n",
    "display(df)"
   ]
  }
 ],
 "metadata": {
  "kernelspec": {
   "display_name": "Python 3 (ipykernel)",
   "language": "python",
   "name": "python3"
  },
  "language_info": {
   "codemirror_mode": {
    "name": "ipython",
    "version": 3
   },
   "file_extension": ".py",
   "mimetype": "text/x-python",
   "name": "python",
   "nbconvert_exporter": "python",
   "pygments_lexer": "ipython3",
   "version": "3.11.5"
  }
 },
 "nbformat": 4,
 "nbformat_minor": 5
}
