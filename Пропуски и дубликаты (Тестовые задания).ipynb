{
 "cells": [
  {
   "cell_type": "markdown",
   "id": "38b8e55a",
   "metadata": {},
   "source": [
    "# Тест"
   ]
  },
  {
   "cell_type": "code",
   "execution_count": 63,
   "id": "11d22dec",
   "metadata": {},
   "outputs": [
    {
     "name": "stdout",
     "output_type": "stream",
     "text": [
      "289\n"
     ]
    },
    {
     "data": {
      "text/plain": [
       "198"
      ]
     },
     "execution_count": 63,
     "metadata": {},
     "output_type": "execute_result"
    }
   ],
   "source": [
    "import pandas as pd\n",
    "import seaborn as sns\n",
    "import matplotlib.pyplot as plt\n",
    "\n",
    "df=pd.read_csv('C:\\csv\\Lesson_1_titanic.csv')\n",
    "\n",
    "# ВОПРОС 1: СКОЛЬКО УНИКАЬНЫХ СТРОК В КОЛОНКАХ Age Sex Sex? ОТВЕТ 289\n",
    "df[~df.duplicated(subset=['Age', 'Sex', 'Pclass'])].shape  # Ищет дубликаты по трем колонкам, \n",
    "                                                           # (~) - переворачивает значение - видим только уникальные\n",
    "                                                           # shape - выдает кол-во строк и колонок\n",
    "\n",
    "print(len(df[~df.duplicated(subset=['Age', 'Sex', 'Pclass'])]))   # Аналогично что и выше\n",
    "\n",
    "df_origin = df.copy()                        # Аналогично что и выше через удаление. копию оригинала сохранили в df_origin\n",
    "df.drop_duplicates(subset=['Age', 'Sex', 'Pclass'], inplace = True)  #в Датафрейме остались только уникальные по трем столбцам\n",
    "df.shape\n",
    "\n",
    "# ВОПРОС 2: СКОЛЬКО ПРОПУСКОВ В ДАННЫХ ТИТАНИКА ВСЕГО? ОТВЕТ 198\n",
    "df.isnull().sum().sum()"
   ]
  },
  {
   "cell_type": "markdown",
   "id": "81cad14f",
   "metadata": {},
   "source": [
    "# ВОПРОС 3: НАСКОЛЬКО ИЗМЕНИТСЯ СРЕДНЕЕ ЗНАЧЕНИЕ ПРИЗНАКА Age ЕСЛИ ЗАМЕНИТЬ ПРОПУСКИ В ДАННОЙ КОЛОНКЕ НУЛЯМИ"
   ]
  },
  {
   "cell_type": "code",
   "execution_count": 58,
   "id": "3f95ea8c",
   "metadata": {},
   "outputs": [
    {
     "name": "stdout",
     "output_type": "stream",
     "text": [
      "Average origin: 29.69911764705882\n",
      "Average new: 23.79929292929293\n",
      "raznica: 5.9\n"
     ]
    }
   ],
   "source": [
    "import pandas as pd\n",
    "import seaborn as sns\n",
    "\n",
    "df=pd.read_csv('C:\\csv\\Lesson_1_titanic.csv')\n",
    "\n",
    "Average_origin=df['Age'].mean()           # Считаем среднюю по столбцу до замены\n",
    "print('Average origin:',Average_origin)\n",
    "df['Age_new']=df['Age'].fillna(0)         # Заменяем пропуски на 0\n",
    "Average_new=df['Age_new'].mean()          # Считаем среднюю по столбцу после замены\n",
    "print('Average new:', Average_new)\n",
    "print('raznica:', round(Average_origin-Average_new,2)) # От старой отнимаем новую"
   ]
  },
  {
   "cell_type": "markdown",
   "id": "97f14549",
   "metadata": {},
   "source": [
    "# ВОПРОС 4: НАСКОЛЬКО ИЗМЕНИТСЯ СРЕДНЕЕ ЗНАЧЕНИЕ Age ЕСЛИ ЗАМЕНИТЬ ПРОПУСКИ В ДАННОЙ КОЛОНКЕ СРЕДНИМ"
   ]
  },
  {
   "cell_type": "code",
   "execution_count": 59,
   "id": "34952696",
   "metadata": {},
   "outputs": [
    {
     "name": "stdout",
     "output_type": "stream",
     "text": [
      "Average origin: 29.69911764705882\n",
      "Average new: 29.69911764705882\n",
      "raznica: 0.0\n"
     ]
    }
   ],
   "source": [
    "import pandas as pd\n",
    "import seaborn as sns\n",
    "df=pd.read_csv('C:\\csv\\Lesson_1_titanic.csv')\n",
    "Average_origin=df['Age'].mean()           # Считаем среднюю по столбцу до замены\n",
    "print('Average origin:',Average_origin)\n",
    "df['Age_new']=df['Age'].fillna(Average_origin)         # Заменяем пропуски на среднее\n",
    "Average_new=df['Age_new'].mean()          # Считаем среднюю по столбцу после замены\n",
    "print('Average new:', Average_new)\n",
    "print('raznica:', round(Average_origin-Average_new,2)) # От старой отнимаем новую"
   ]
  },
  {
   "cell_type": "markdown",
   "id": "6f1b87d8",
   "metadata": {},
   "source": [
    "# ВОПРОС 5: НАСКОЛЬКО ИЗМЕНИТСЯ СРЕДНЕЕ ЗНАЧЕНИЕ Age ЕСЛИ ЗАМЕНИТЬ ПРОПУСКИ В ДАННОЙ КОЛОНКЕ МЕДИАНОЙ"
   ]
  },
  {
   "cell_type": "code",
   "execution_count": 61,
   "id": "e33b0806",
   "metadata": {},
   "outputs": [
    {
     "name": "stdout",
     "output_type": "stream",
     "text": [
      "Average origin: 29.69911764705882\n",
      "Average new: 29.36158249158249\n",
      "raznica: 0.34\n"
     ]
    }
   ],
   "source": [
    "import pandas as pd\n",
    "import seaborn as sns\n",
    "df=pd.read_csv('C:\\csv\\Lesson_1_titanic.csv')\n",
    "Average_origin=df['Age'].mean()           # Считаем среднюю по столбцу до замены\n",
    "print('Average origin:',Average_origin)\n",
    "df['Age_new']=df['Age'].fillna(df['Age'].median())         # Заменяем пропуски на медиану \n",
    "Average_new=df['Age_new'].mean()          # Считаем среднюю по столбцу после замены\n",
    "print('Average new:', Average_new)\n",
    "print('raznica:', round(Average_origin-Average_new,2))     # От старой отнимаем новую"
   ]
  }
 ],
 "metadata": {
  "kernelspec": {
   "display_name": "Python 3 (ipykernel)",
   "language": "python",
   "name": "python3"
  },
  "language_info": {
   "codemirror_mode": {
    "name": "ipython",
    "version": 3
   },
   "file_extension": ".py",
   "mimetype": "text/x-python",
   "name": "python",
   "nbconvert_exporter": "python",
   "pygments_lexer": "ipython3",
   "version": "3.11.5"
  }
 },
 "nbformat": 4,
 "nbformat_minor": 5
}
