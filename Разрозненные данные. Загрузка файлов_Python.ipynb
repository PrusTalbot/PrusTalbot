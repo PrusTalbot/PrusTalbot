{
 "cells": [
  {
   "cell_type": "markdown",
   "id": "d6fdc742",
   "metadata": {},
   "source": [
    "# Работа с разрозненными данными"
   ]
  },
  {
   "cell_type": "code",
   "execution_count": null,
   "id": "c211c601",
   "metadata": {},
   "outputs": [],
   "source": [
    "import pandas as pd\n",
    "import seaborn as sns\n",
    "import matplotlib.pyplot as plt\n",
    "\n",
    "df_rec=pd.read_excel(r'c:\\csv\\receipts\\2022-12-03_16шт_6627_Казахтелеком (1).xlsx')\n",
    "display(df_rec)\n",
    "date_rec=[]\n",
    "\n",
    "for i in range(len(df_rec)):\n",
    "    #print(df_rec['vendor'][i])\n",
    "    if df_rec['vendor'][i]=='date':              #нашли дату\n",
    "        date_rec=df_rec['Казахтелеком'][i]\n",
    "    if df_rec['vendor'][i]=='number':            #нашли номер строки, на котрой заканчивается \"шапка\" таблицы\n",
    "        row_n=i\n",
    "        break\n",
    "\n",
    "df_rec_cut=df_rec[row_n:]                        #обрезка датафрейма по строке=оставляем все начиная со строки на которой закончилась шапка\n",
    "df_rec_cut=df_rec_cut.reset_index(drop=1)\n",
    "\n",
    "# Сделаем шапку \n",
    "\n",
    "df_rec_cut.columns=df_rec_cut.iloc[0]           # записываем строчку с индексом 0 как шапку \n",
    "df_rec_cut=df_rec_cut[1:]                       # удаляем строчку с индеском 0 \n",
    "\n",
    "\n",
    "display(df_rec_cut)"
   ]
  },
  {
   "cell_type": "markdown",
   "id": "42ef0ffa",
   "metadata": {},
   "source": [
    "# Разрозненные данные. Загрузка файлов списком через функцию"
   ]
  },
  {
   "cell_type": "code",
   "execution_count": null,
   "id": "f281bcec",
   "metadata": {},
   "outputs": [],
   "source": [
    "# Разрозненные данные. Загрузка файлов списком через функцию\n",
    "\n",
    "def func_f(data):   \n",
    "    for i in range(len(data)):\n",
    "        if data['vendor'][i]=='date':\n",
    "            date_rec=data['Казахтелеком'][i]  # Достанем дату\n",
    "        if data['vendor'][i]=='number':\n",
    "            row_n=i                         # Определим строчку начала таблицы \n",
    "            break\n",
    "\n",
    "    #print(date_rec)\n",
    "\n",
    "    data_cut=data[row_n:]                   # оставляем только данные таблицы \n",
    "    data_cut=data_cut.reset_index(drop=1)\n",
    "\n",
    "    # Сделаем шапку \n",
    "    #print(df_rec_cut[0])\n",
    "\n",
    "    data_cut.columns=data_cut.iloc[0]       # записываем строчку с индексом 0 как шапку \n",
    "    data_cut=data_cut[1:]                   # удаляем строчку с индеском 0 \n",
    "    \n",
    "    data_cut['datetime_final']=date_rec\n",
    "\n",
    "    return data_cut\n",
    "\n",
    "os.chdir(r'c:\\csv\\receipts')                # меняем рабочу папку для загрузки\n",
    "directory=os.listdir()                      # создаем список с названием файлов\n",
    "\n",
    "df_total=[]                                 # создаем перменную, куда будем складывать данные всех чеков\n",
    "#for i in range(len(directory)):\n",
    "for i in range(0,14):\n",
    "    df_sample=pd.read_excel(directory[i])   # читаем каждый файл последовательно\n",
    "    df=func_f(df_sample)                    # применяем к загруженному файлу функцию\n",
    "    df['name_file']=directory[i]            # записываем во фрейм название чека\n",
    "    df['numb_check']=i                      # записываем во фрем порядокдовый номер чека\n",
    "    df_total.append(df)                     # записываем жанные по конкретному чеку в общую переменную\n",
    "\n",
    "df_final=pd.concat(df_total)                # преобразуем обзую переменную во фрейм\n",
    "df_final"
   ]
  }
 ],
 "metadata": {
  "kernelspec": {
   "display_name": "Python 3 (ipykernel)",
   "language": "python",
   "name": "python3"
  },
  "language_info": {
   "codemirror_mode": {
    "name": "ipython",
    "version": 3
   },
   "file_extension": ".py",
   "mimetype": "text/x-python",
   "name": "python",
   "nbconvert_exporter": "python",
   "pygments_lexer": "ipython3",
   "version": "3.11.5"
  }
 },
 "nbformat": 4,
 "nbformat_minor": 5
}
